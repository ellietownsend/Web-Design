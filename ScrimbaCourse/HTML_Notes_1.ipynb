{
 "cells": [
  {
   "cell_type": "markdown",
   "id": "c97628eb-a757-40a0-bad7-d0da74928819",
   "metadata": {},
   "source": [
    "# HTML Notes 1"
   ]
  },
  {
   "cell_type": "markdown",
   "id": "ad4c2986-25fd-401f-b261-a421ff06cb45",
   "metadata": {},
   "source": [
    "## What does HTML stand for?\n",
    "1. **HyperText**\n",
    "\n",
    "<img src = \"https://s3.amazonaws.com/media.thecrimson.com/photos/2014/04/22/215942_1296530.jpg\" alt = \"HyperText\" width = \"200\">\n",
    "\"HyperText\" refers to text that contains links to other texts. This lets users navigate between documents easily. This linking system is what made it \"hyper\" not just linear text like in books, but interconnected.\n",
    "\n",
    "2. **Markup**\n",
    "\n",
    "<img src = \"https://d11kvfv4kxw5s4.cloudfront.net/wp-content/uploads/sites/15/2021/01/24121412/alec-miami-8.jpg\" alt = \"Tagging\" width = \"200\">\n",
    "\"Markup\" means a way of annotating text to give it structure and meaning. In the picture above the wall is being marked up by tagging. In HTML, we use tags to define to the computer how we would like our webpage to be structured. \n",
    "\n",
    "3. **Language**\n",
    "\n",
    "<img src = \"https://www.zdnet.com/a/img/resize/e0a9cadd3b0038b854680cff5a197bdf96580443/2021/07/19/8a337c80-5ed6-43a1-98fb-b981d420890f/programming-languages-shutterstock-1680857539.jpg?auto=webp&width=1280\" alt = \"Coding Languages\" width = \"200\">\n",
    "\n",
    "HTML is a language, it has its own sytnax and set of rules which tells web browsers how to structure and display content on a webpage. "
   ]
  },
  {
   "cell_type": "markdown",
   "id": "0051d6d5-9d39-4218-a586-7b8a9bc45cab",
   "metadata": {},
   "source": [
    "#### Naming Convention:\n",
    "- When making a HTML page, we usally name it \"index.html\". This is because the word index suggests a table of contents or entry point, so it makes sense to use it for the first page users see when visiting a directory or site. "
   ]
  },
  {
   "cell_type": "markdown",
   "id": "f9bac182-8a87-43c4-beb0-d080dfa6fe9f",
   "metadata": {},
   "source": [
    "## Headers\n",
    "Headers are a type of tag (tags are how we define elements on a webpage). The are **six** layers of headers we can use in total. They require an opening and closing tag."
   ]
  },
  {
   "cell_type": "code",
   "execution_count": 1,
   "id": "854d0716-94a8-40d1-9a3a-f65af55d6f52",
   "metadata": {},
   "outputs": [
    {
     "data": {
      "text/html": [
       "<hthml>\n",
       "<h1>Heading 1</h1>\n",
       "<h2>Heading 2</h2>\n",
       "<h3> Heading 3</h3>\n",
       "<h4> Heading 4</h4>\n",
       "<h5> Heading 5</h5>\n",
       "<h6> Heading 6</h6>\n",
       "</html>\n"
      ],
      "text/plain": [
       "<IPython.core.display.HTML object>"
      ]
     },
     "metadata": {},
     "output_type": "display_data"
    }
   ],
   "source": [
    "%%html\n",
    "<hthml>\n",
    "<h1>Heading 1</h1>\n",
    "<h2>Heading 2</h2>\n",
    "<h3> Heading 3</h3>\n",
    "<h4> Heading 4</h4>\n",
    "<h5> Heading 5</h5>\n",
    "<h6> Heading 6</h6>\n",
    "</html>"
   ]
  },
  {
   "cell_type": "markdown",
   "id": "370e0024-cbee-4660-a52d-e40316d6dcd9",
   "metadata": {},
   "source": [
    "## Paragraphs\n",
    "Paragraphs are another type of tag, they are used to create text paragraphs on our webpage. "
   ]
  },
  {
   "cell_type": "code",
   "execution_count": 4,
   "id": "8da2109e-ca5f-48f2-a516-3261f39bfec3",
   "metadata": {},
   "outputs": [
    {
     "data": {
      "text/html": [
       "<html>\n",
       "<p> This is a paragraph! At least it has the paragraph tags... It's not a long paragrpah that's for sure </p>\n",
       "</html>\n"
      ],
      "text/plain": [
       "<IPython.core.display.HTML object>"
      ]
     },
     "metadata": {},
     "output_type": "display_data"
    }
   ],
   "source": [
    "%%html\n",
    "<html>\n",
    "<p> This is a paragraph! At least it has the paragraph tags... It's not a long paragrpah that's for sure </p>\n",
    "</html>"
   ]
  },
  {
   "cell_type": "markdown",
   "id": "9de1c269-5f6d-4278-8890-8aef0b5fe4db",
   "metadata": {},
   "source": [
    "An example of paragraph and header tags:"
   ]
  },
  {
   "cell_type": "code",
   "execution_count": 7,
   "id": "e2aa15d5-0dde-4b08-9f05-8a131fc52fc5",
   "metadata": {},
   "outputs": [
    {
     "data": {
      "text/html": [
       "<html>\n",
       "<h1>Humans have reached Mars</h1>\n",
       "<h3>The Starship rocket successfully landed on the red planet this morning.</h3>\n",
       "<p>After a 115 days long journey, the crew of 12 finally arrived at their destination. This is the first time humans have set foot on a planet other than Earth.</p>\n",
       "</html>\n"
      ],
      "text/plain": [
       "<IPython.core.display.HTML object>"
      ]
     },
     "metadata": {},
     "output_type": "display_data"
    }
   ],
   "source": [
    "%%html\n",
    "<html>\n",
    "<h1>Humans have reached Mars</h1>\n",
    "<h3>The Starship rocket successfully landed on the red planet this morning.</h3>\n",
    "<p>After a 115 days long journey, the crew of 12 finally arrived at their destination. This is the first time humans have set foot on a planet other than Earth.</p>\n",
    "</html>"
   ]
  },
  {
   "cell_type": "markdown",
   "id": "64b9f51e-875d-4daa-8dd8-cd8306be48ff",
   "metadata": {},
   "source": [
    "## Images\n",
    "Images is another type of tag that we use to embed images on our webpage. But it has a few special qualities. \n",
    "1. **Self closing tag**\n",
    "- The image tag does not have a closing tag,\n",
    "  \n",
    "2. **Src**\n",
    "   - After writing \"img\" we write \"src\" which is short for \"source\". We are specifiying which image we want to render.\n",
    "   - This is the only required attribute, the ones mentioned below are optitonal, but let the computer know how we want the picture displayed.\n",
    "  \n",
    "3. **Width**\n",
    "- We can contol the size of our image by using the \"width\" attirbute. In HTML, there are **two** ways to set the width.\n",
    "- Width can be with a **percentage** (which is made to fit the container, and will change depending on the size of the screen)) or the number of **pixels** (which will stay constant).\n",
    "- It is better to specify how the computer should determine the size of the image in CSS!!"
   ]
  },
  {
   "cell_type": "markdown",
   "id": "3dcbf97d-348e-4975-ab18-7db039e63109",
   "metadata": {},
   "source": [
    "<img src = \"https://media.fashionnetwork.com/cdn-cgi/image/format=auto/m/a938/f7f1/e9ba/5344/42bc/0f17/7b6e/4f2f/948e/a8a0/a8a0.jpg\" alt = \"Image that started Google Images\" width = \"20%\">"
   ]
  },
  {
   "cell_type": "markdown",
   "id": "664babc8-3820-44e8-9f6f-e964905430ac",
   "metadata": {},
   "source": [
    "## Nesting and HTML Document Tree\n",
    "**Nesting happens when we place HTML elements within other HTML elements. When we do this multiple times, we create a tree like structure.**  \n",
    "\n",
    "<img src = \"https://www.openbookproject.net/tutorials/getdown/css/images/lesson4/HTMLDOMTree.png\" alt = \"HTML Document Tree\" width = \"200\">\n",
    "\n",
    "1. When we place items together were placing them in a container, but in HTML we use a **div tag**. \"Div\" stands for division.\n",
    "2. Everything within our container (our div tags) should be indented for readability purposes.\n",
    "3. A div tag does not change anything, but it gives us the ability to target everything within it.\n",
    "4. We can have children of div's (nesting within nesting). Which then again would be indented for readbility purposes.  "
   ]
  },
  {
   "cell_type": "code",
   "execution_count": 1,
   "id": "e8cc9c3e-cd89-427e-bf8a-4c0be0060037",
   "metadata": {},
   "outputs": [
    {
     "data": {
      "text/html": [
       "<html>\n",
       "<!--The div tag will have no affect on our browser-->\n",
       "<div>\n",
       "<h1>Humans have reached Mars</h1>\n",
       "<h3>The Starship rocket successfully landed on the red planet this morning.</h3>\n",
       "<p>After a 115 days long journey, the crew of 12 finally arrived at their destination. This is the first time humans have set foot on a planet other than Earth.</p>\n",
       "<img src = \"https://csis-website-prod.s3.amazonaws.com/s3fs-public/2025-01/GettyImages-89614571_cropped.jpg?VersionId=d_C0tH15MxoFzKMuIQSHiAPJxeWKZml7\" width = \"20%\">\n",
       "</div>\n",
       "</html>\n"
      ],
      "text/plain": [
       "<IPython.core.display.HTML object>"
      ]
     },
     "metadata": {},
     "output_type": "display_data"
    }
   ],
   "source": [
    "%%html\n",
    "<html>\n",
    "<!--The div tag will have no affect on our browser-->\n",
    "<div>\n",
    "<h1>Humans have reached Mars</h1>\n",
    "<h3>The Starship rocket successfully landed on the red planet this morning.</h3>\n",
    "<p>After a 115 days long journey, the crew of 12 finally arrived at their destination. This is the first time humans have set foot on a planet other than Earth.</p>\n",
    "<img src = \"https://csis-website-prod.s3.amazonaws.com/s3fs-public/2025-01/GettyImages-89614571_cropped.jpg?VersionId=d_C0tH15MxoFzKMuIQSHiAPJxeWKZml7\" width = \"20%\">\n",
    "</div>\n",
    "</html>"
   ]
  },
  {
   "cell_type": "markdown",
   "id": "647d6563-a6b9-451f-9c75-cd3cbc434295",
   "metadata": {},
   "source": [
    "## Button\n",
    "**The button tag allows us to add buttons to our webpage**  \n",
    "\n",
    "<img src = \"https://i.ytimg.com/vi/Z-YS39WlADQ/hqdefault.jpg\" alt = \"The button\" width = \"20%\">\n",
    "\n",
    "- It requires an opening and closing tag.\n",
    "- The text within the opening and closing tag specifies what we want our button to say.\n",
    "- We use JavaScript to make the button useful, and CSS to make it appear how we would like."
   ]
  },
  {
   "cell_type": "code",
   "execution_count": 3,
   "id": "f2d27ccf-d998-43aa-ac78-ba12264e73a0",
   "metadata": {},
   "outputs": [
    {
     "data": {
      "text/html": [
       "<html>\n",
       "<!--Below is an example of the button tag-->\n",
       "<button>Click Me</button>\n",
       "</html>\n"
      ],
      "text/plain": [
       "<IPython.core.display.HTML object>"
      ]
     },
     "metadata": {},
     "output_type": "display_data"
    }
   ],
   "source": [
    "%%html\n",
    "<html>\n",
    "<!--Below is an example of the button tag-->\n",
    "<button>Click Me</button>\n",
    "</html>"
   ]
  },
  {
   "cell_type": "code",
   "execution_count": 7,
   "id": "50c18ce9-7385-4ebb-8621-c4fc6bbab89a",
   "metadata": {},
   "outputs": [
    {
     "data": {
      "text/html": [
       "<html>\n",
       "<!--Example of using all the above skills-->\n",
       "<div>\n",
       "    <h1>Welcome!</h1>\n",
       "    <p>You have been granted access to this platform. Please sign up to create an account.</p>\n",
       "    <button>Sign up!</button>\n",
       "</div>\n",
       "</html>\n"
      ],
      "text/plain": [
       "<IPython.core.display.HTML object>"
      ]
     },
     "metadata": {},
     "output_type": "display_data"
    }
   ],
   "source": [
    "%%html\n",
    "<html>\n",
    "<!--Example of using all the above skills-->\n",
    "<div>\n",
    "    <h1>Welcome!</h1>\n",
    "    <p>You have been granted access to this platform. Please sign up to create an account.</p>\n",
    "    <button>Sign up!</button>\n",
    "</div>\n",
    "</html>"
   ]
  },
  {
   "cell_type": "markdown",
   "id": "0e3b9c2f-73b5-444c-8355-84d9216f31c6",
   "metadata": {},
   "source": [
    "## Input\n",
    "**The input tag allows us to accept input from the user**\n",
    "- Input is a self closing tag, alike to the image tag. \n",
    "- It requires a source attribute, that determines what type of input we can accept from the user."
   ]
  },
  {
   "cell_type": "code",
   "execution_count": 8,
   "id": "10c4bfc5-2318-4623-a251-0c5dd195dde9",
   "metadata": {},
   "outputs": [
    {
     "data": {
      "text/html": [
       "<html>\n",
       "<!--Example of accepting text input-->\n",
       "<div>\n",
       "    <h1>Welcome!</h1>\n",
       "    <p>You have been granted access to this platform. Please sign up to create an account.</p>\n",
       "    <input type = \"text\">\n",
       "    <button>Sign up!</button>\n",
       "</div>\n",
       "</html>\n"
      ],
      "text/plain": [
       "<IPython.core.display.HTML object>"
      ]
     },
     "metadata": {},
     "output_type": "display_data"
    }
   ],
   "source": [
    "%%html\n",
    "<html>\n",
    "<!--Example of accepting text input-->\n",
    "<div>\n",
    "    <h1>Welcome!</h1>\n",
    "    <p>You have been granted access to this platform. Please sign up to create an account.</p>\n",
    "    <input type = \"text\">\n",
    "    <button>Sign up!</button>\n",
    "</div>\n",
    "</html>"
   ]
  },
  {
   "cell_type": "markdown",
   "id": "d71f252a-b719-4b41-abd1-f1405fdb0563",
   "metadata": {},
   "source": [
    "### Input Attributes\n",
    "**The input tag only requires a source attribute (what kind of input we are looking for from the user) but there are some other commeon ones we can add.**\n",
    "1. \"placeholder\": Allows us to write text in the input box, which we can use to specify to the user what we are looking for.\n",
    "2. \"password\": Password is a type of source attribute that allows the user to enter keys without displaying them on the screen.\n",
    "3. \"date\": Date is another source attribute. When the user clicks the input box a calender will be dispayed, allowing them to click a date.\n",
    "4. \"time\": Time is another source attribute. When the user clicks the input box different times will be dispalyed, allowing them to choose a time.\n",
    "5. \"color\": Color is another source attribute. When we use clicks the input box a color wheel will appear, allowing them to pick a color.\n",
    "6. \"file\": File is another source attribute. It allows the user to upload a file."
   ]
  },
  {
   "cell_type": "code",
   "execution_count": 13,
   "id": "65ad9269-831d-4255-800a-06c22ca11b86",
   "metadata": {},
   "outputs": [
    {
     "data": {
      "text/html": [
       "<html>\n",
       "<!--Example of using the placeholder attribute-->\n",
       "<div>\n",
       "    <h1>Welcome!</h1>\n",
       "    <p>You have been granted access to this platform. Please sign up to create an account.</p>\n",
       "    <input type = \"file\">\n",
       "    <input type = \"text\" placeholder= \"Enter Username\">\n",
       "    <input type = \"password\" placeholder = \"Enter Password\">\n",
       "    <button>Sign up!</button>\n",
       "</div>\n",
       "</html>\n"
      ],
      "text/plain": [
       "<IPython.core.display.HTML object>"
      ]
     },
     "metadata": {},
     "output_type": "display_data"
    }
   ],
   "source": [
    "%%html \n",
    "<html>\n",
    "<!--Example of using the placeholder attribute-->\n",
    "<div>\n",
    "    <h1>Welcome!</h1>\n",
    "    <p>You have been granted access to this platform. Please sign up to create an account.</p>\n",
    "    <input type = \"file\">\n",
    "    <input type = \"text\" placeholder= \"Enter Username\">\n",
    "    <input type = \"password\" placeholder = \"Enter Password\">\n",
    "    <button>Sign up!</button>\n",
    "</div>\n",
    "</html>"
   ]
  },
  {
   "cell_type": "code",
   "execution_count": 1,
   "id": "8989e316-034b-465b-8a08-52bb087c174f",
   "metadata": {},
   "outputs": [
    {
     "data": {
      "text/html": [
       "<style>\n",
       "body, html {\n",
       "    margin: 0;\n",
       "    padding: 0; \n",
       "}\n",
       "\n",
       "img {\n",
       "    width: 30%;\n",
       "    display: block;\n",
       "    margin: 100px auto 20px;\n",
       "    min-width: 272px;\n",
       "}\n",
       "\n",
       "input {\n",
       "    box-sizing: border-box;\n",
       "    display: block;\n",
       "    border-radius: 24px;\n",
       "    border: 1px solid rgb(223, 225, 229);\n",
       "    height: 44px;\n",
       "    margin: 0 auto 29px;\n",
       "    max-width: 564px;\n",
       "    width: 90%;\n",
       "    padding-left: 30px;\n",
       "    font-size: 16px;\n",
       "}\n",
       "\n",
       "button {\n",
       "    box-sizing: border-box;\n",
       "    margin-top: 0;\n",
       "    padding: 0 16px;\n",
       "    font-size: 14px;\n",
       "    height: 36px;\n",
       "    background-color: #f8f9fa;\n",
       "    border: 1px solid #f8f9fa;\n",
       "    cursor: pointer;\n",
       "}\n",
       "\n",
       "button:first-of-type {\n",
       "    margin-right: 8px;\n",
       "    margin-left: calc(50% - 131.5px);\n",
       "}\n",
       "\n",
       "button::hover {\n",
       "    cursor: pointer;   \n",
       "}\n",
       "</style>\n"
      ],
      "text/plain": [
       "<IPython.core.display.HTML object>"
      ]
     },
     "metadata": {},
     "output_type": "display_data"
    }
   ],
   "source": [
    "%%html\n",
    "<style>\n",
    "body, html {\n",
    "    margin: 0;\n",
    "    padding: 0; \n",
    "}\n",
    "\n",
    "img {\n",
    "    width: 30%;\n",
    "    display: block;\n",
    "    margin: 100px auto 20px;\n",
    "    min-width: 272px;\n",
    "}\n",
    "\n",
    "input {\n",
    "    box-sizing: border-box;\n",
    "    display: block;\n",
    "    border-radius: 24px;\n",
    "    border: 1px solid rgb(223, 225, 229);\n",
    "    height: 44px;\n",
    "    margin: 0 auto 29px;\n",
    "    max-width: 564px;\n",
    "    width: 90%;\n",
    "    padding-left: 30px;\n",
    "    font-size: 16px;\n",
    "}\n",
    "\n",
    "button {\n",
    "    box-sizing: border-box;\n",
    "    margin-top: 0;\n",
    "    padding: 0 16px;\n",
    "    font-size: 14px;\n",
    "    height: 36px;\n",
    "    background-color: #f8f9fa;\n",
    "    border: 1px solid #f8f9fa;\n",
    "    cursor: pointer;\n",
    "}\n",
    "\n",
    "button:first-of-type {\n",
    "    margin-right: 8px;\n",
    "    margin-left: calc(50% - 131.5px);\n",
    "}\n",
    "\n",
    "button::hover {\n",
    "    cursor: pointer;   \n",
    "}\n",
    "</style>"
   ]
  },
  {
   "cell_type": "code",
   "execution_count": 16,
   "id": "85e2ed47-11c8-4351-bdef-5ea871dc278c",
   "metadata": {},
   "outputs": [
    {
     "data": {
      "text/html": [
       "<html>\n",
       "<!--An example creating Google-->\n",
       "<div>\n",
       " <img src = \"https://upload.wikimedia.org/wikipedia/commons/thumb/2/2f/Google_2015_logo.svg/640px-Google_2015_logo.svg.png\" width = \"100%\">\n",
       " <input = \"text\">\n",
       " <button>Google Search</button>\n",
       " <button>I'm Feeling Lucky</button>\n",
       "</div>\n",
       "</html>\n"
      ],
      "text/plain": [
       "<IPython.core.display.HTML object>"
      ]
     },
     "metadata": {},
     "output_type": "display_data"
    }
   ],
   "source": [
    "%%html\n",
    "<html>\n",
    "<!--An example creating Google-->\n",
    "<div>\n",
    " <img src = \"https://upload.wikimedia.org/wikipedia/commons/thumb/2/2f/Google_2015_logo.svg/640px-Google_2015_logo.svg.png\" width = \"100%\">\n",
    " <input = \"text\">\n",
    " <button>Google Search</button>\n",
    " <button>I'm Feeling Lucky</button>\n",
    "</div>\n",
    "</html>"
   ]
  },
  {
   "cell_type": "code",
   "execution_count": null,
   "id": "f8ae8ad7-fcc6-46b7-85e7-24aa57902e06",
   "metadata": {},
   "outputs": [],
   "source": []
  }
 ],
 "metadata": {
  "kernelspec": {
   "display_name": "Python 3 (ipykernel)",
   "language": "python",
   "name": "python3"
  },
  "language_info": {
   "codemirror_mode": {
    "name": "ipython",
    "version": 3
   },
   "file_extension": ".py",
   "mimetype": "text/x-python",
   "name": "python",
   "nbconvert_exporter": "python",
   "pygments_lexer": "ipython3",
   "version": "3.10.16"
  }
 },
 "nbformat": 4,
 "nbformat_minor": 5
}
